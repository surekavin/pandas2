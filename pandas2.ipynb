{
  "cells": [
    {
      "cell_type": "markdown",
      "metadata": {
        "id": "view-in-github",
        "colab_type": "text"
      },
      "source": [
        "<a href=\"https://colab.research.google.com/github/surekavin/pandas2/blob/main/pandas2.ipynb\" target=\"_parent\"><img src=\"https://colab.research.google.com/assets/colab-badge.svg\" alt=\"Open In Colab\"/></a>"
      ]
    },
    {
      "cell_type": "code",
      "execution_count": 55,
      "metadata": {
        "id": "qdo_xhFWVP9O"
      },
      "outputs": [],
      "source": [
        "import os\n",
        "import pandas as pd\n",
        "import numpy as np\n",
        "import matplotlib.pyplot as plt"
      ]
    },
    {
      "cell_type": "code",
      "execution_count": 64,
      "metadata": {
        "colab": {
          "base_uri": "https://localhost:8080/"
        },
        "id": "nHSMzpn-VxB1",
        "outputId": "f0df41a8-6ebb-4fb3-fbec-9094c63ab96b"
      },
      "outputs": [
        {
          "output_type": "stream",
          "name": "stdout",
          "text": [
            "              Name  python  mysql  Previous Geekions  CodeKata Score  \\\n",
            "0        A.Dharani    82.0   20.0              24500           24500   \n",
            "1      V.JEEVITHA     82.0   20.0              21740           21740   \n",
            "2      HEMAVATHI.R   100.0  100.0              19680           19680   \n",
            "3      Mugunthan S   100.0   47.0              10610           10610   \n",
            "4      Sathammai.S   100.0    8.0               8980            8980   \n",
            "..             ...     ...    ...                ...             ...   \n",
            "114  praveen raj j    24.0    0.0               2380            2380   \n",
            "115     AMARNATH D    -1.0   12.0               1890            1890   \n",
            "116           bala    32.0    0.0               1720            1720   \n",
            "117           XY Z    -1.0   -1.0                  0               0   \n",
            "118      Hariharan    -1.0   -1.0                  0               0   \n",
            "\n",
            "                                    Department  Rising  python_en  \\\n",
            "0             Computer Science and Engineering       0        NaN   \n",
            "1             Computer Science and Engineering       0        NaN   \n",
            "2             Computer Science and Engineering       0        NaN   \n",
            "3             Computer Science and Engineering       0        NaN   \n",
            "4             Computer Science and Engineering       0        NaN   \n",
            "..                                         ...     ...        ...   \n",
            "114           Computer Science and Engineering       0       -1.0   \n",
            "115  Electronics and Communication Engineering       0       52.0   \n",
            "116  Electronics and Communication Engineering       0       49.0   \n",
            "117           Computer Science and Engineering       0       20.0   \n",
            "118           Computer Science and Engineering       0       -1.0   \n",
            "\n",
            "     computational_thinking  \n",
            "0                       NaN  \n",
            "1                       NaN  \n",
            "2                       NaN  \n",
            "3                       NaN  \n",
            "4                       NaN  \n",
            "..                      ...  \n",
            "114                     0.0  \n",
            "115                    -1.0  \n",
            "116                    -1.0  \n",
            "117                    -1.0  \n",
            "118                     0.0  \n",
            "\n",
            "[119 rows x 9 columns]\n"
          ]
        }
      ],
      "source": [
        "###merge those two csv files (after getting as dataframes, get them as a single dataframe)###\n",
        "df=pd.concat(map(pd.read_csv,['/content/college_1.csv','/content/college_2.csv']),ignore_index=True)\n",
        "print(df)"
      ]
    },
    {
      "cell_type": "code",
      "execution_count": null,
      "metadata": {
        "colab": {
          "base_uri": "https://localhost:8080/"
        },
        "id": "XnA2vr30dakW",
        "outputId": "465a40ba-f3a6-435a-aabb-34805214781f"
      },
      "outputs": [
        {
          "name": "stdout",
          "output_type": "stream",
          "text": [
            "             Name  python  mysql  Previous Geekions  CodeKata Score  \\\n",
            "0       A.Dharani    82.0   20.0              24500           24500   \n",
            "1     V.JEEVITHA     82.0   20.0              21740           21740   \n",
            "2     HEMAVATHI.R   100.0  100.0              19680           19680   \n",
            "84  ASHOK KUMAR K   100.0   31.0              19400           19400   \n",
            "\n",
            "                                Department  Rising  python_en  \\\n",
            "0         Computer Science and Engineering       0        NaN   \n",
            "1         Computer Science and Engineering       0        NaN   \n",
            "2         Computer Science and Engineering       0        NaN   \n",
            "84  Electronics and Electrical Engineering       0        0.0   \n",
            "\n",
            "    computational_thinking  \n",
            "0                      NaN  \n",
            "1                      NaN  \n",
            "2                      NaN  \n",
            "84                     9.0  \n"
          ]
        }
      ],
      "source": [
        "###consider if the codekata score exceeds 15000 points(present week) then make a csv on those observations as Exceeded expectations.csv###\n",
        "Exceeded_expectations=df[(df['CodeKata Score']>15000)]\n",
        "print(Exceeded_expectations)"
      ]
    },
    {
      "cell_type": "code",
      "execution_count": null,
      "metadata": {
        "colab": {
          "base_uri": "https://localhost:8080/"
        },
        "id": "ZepRVgjse2BP",
        "outputId": "c9ca4bef-fc9a-41b3-83e4-600e438ade49"
      },
      "outputs": [
        {
          "name": "stdout",
          "output_type": "stream",
          "text": [
            "                 Name  python  mysql  Previous Geekions  CodeKata Score  \\\n",
            "3         Mugunthan S   100.0   47.0              10610           10610   \n",
            "85            Chandru     0.0    0.0              14150           14490   \n",
            "86  Ganesh Ramkumar R    -1.0   24.0               8790           10790   \n",
            "87    Bodipudi Harini    -1.0   35.0              10040           10040   \n",
            "\n",
            "                                   Department  Rising  python_en  \\\n",
            "3            Computer Science and Engineering       0        NaN   \n",
            "85           Computer Science and Engineering     340       20.0   \n",
            "86           Computer Science and Engineering    2000       55.0   \n",
            "87  Electronics and Communication Engineering       0        0.0   \n",
            "\n",
            "    computational_thinking  \n",
            "3                      NaN  \n",
            "85                     0.0  \n",
            "86                     6.0  \n",
            "87                    -1.0  \n"
          ]
        }
      ],
      "source": [
        "###if 10000<codekata score<15000 (Reached_expectations.csv)###\n",
        "Reached_expecttion=df[(df['CodeKata Score']>10000)&(df['CodeKata Score']<15000)]\n",
        "print(Reached_expecttion)"
      ]
    },
    {
      "cell_type": "code",
      "execution_count": null,
      "metadata": {
        "colab": {
          "base_uri": "https://localhost:8080/"
        },
        "id": "mHwLPQSR6viZ",
        "outputId": "1d645028-d9a4-48ea-940c-a130d700400c"
      },
      "outputs": [
        {
          "name": "stdout",
          "output_type": "stream",
          "text": [
            "                       Name  python  mysql  Previous Geekions  CodeKata Score  \\\n",
            "4               Sathammai.S   100.0    8.0               8980            8980   \n",
            "5              NIVEESHWAR S   100.0    0.0               8200            8200   \n",
            "6             KALAIARASAN K    85.0   47.0               7750            7880   \n",
            "7      MOHAMED ZUBAIR AHMED    82.0    4.0               7020            7020   \n",
            "88                VIINU V P    -1.0   24.0               9150            9150   \n",
            "89               Poojitha Y     0.0   35.0               7210            8970   \n",
            "90   Gowtham Chandrasekaran    -1.0    0.0               7250            8950   \n",
            "91                Gowtham R    -1.0    4.0               8650            8650   \n",
            "92                 shifak N    58.0    0.0               5180            8320   \n",
            "93                  Balaji     -1.0   20.0               6170            8160   \n",
            "94                 Rushitha    -1.0   62.0               7470            8090   \n",
            "95     Balaraman Muthupandi    -1.0    0.0               7670            8050   \n",
            "96                 JPradhap   100.0    0.0               7340            8030   \n",
            "97            SRIRAMKUMAR B    -1.0    0.0               6400            7940   \n",
            "98                Praneetha    -1.0  100.0               7170            7730   \n",
            "99              Rahul Raj K    -1.0    0.0               6280            7640   \n",
            "100                 Guhan S    -1.0   35.0               7310            7630   \n",
            "101            Suryarajan S    -1.0   31.0               6710            7550   \n",
            "\n",
            "                                    Department  Rising  python_en  \\\n",
            "4             Computer Science and Engineering       0        NaN   \n",
            "5             Computer Science and Engineering       0        NaN   \n",
            "6    Electronics and Communication Engineering     130        NaN   \n",
            "7             Computer Science and Engineering       0        NaN   \n",
            "88      Electronics and Electrical Engineering       0      100.0   \n",
            "89            Computer Science and Engineering    1760       78.0   \n",
            "90            Computer Science and Engineering    1700        0.0   \n",
            "91   Electronics and Communication Engineering       0       60.0   \n",
            "92      Electronics and Electrical Engineering    3140        0.0   \n",
            "93      Electronics and Electrical Engineering    1990      100.0   \n",
            "94            Computer Science and Engineering     620       15.0   \n",
            "95            Computer Science and Engineering     380        9.0   \n",
            "96      Electronics and Electrical Engineering     690        0.0   \n",
            "97            Computer Science and Engineering    1540        0.0   \n",
            "98   Electronics and Communication Engineering     560       23.0   \n",
            "99            Computer Science and Engineering    1360        0.0   \n",
            "100  Electronics and Communication Engineering     320       72.0   \n",
            "101           Computer Science and Engineering     840       63.0   \n",
            "\n",
            "     computational_thinking  \n",
            "4                       NaN  \n",
            "5                       NaN  \n",
            "6                       NaN  \n",
            "7                       NaN  \n",
            "88                     -1.0  \n",
            "89                      0.0  \n",
            "90                      3.0  \n",
            "91                      6.0  \n",
            "92                      0.0  \n",
            "93                      0.0  \n",
            "94                      9.0  \n",
            "95                      0.0  \n",
            "96                      0.0  \n",
            "97                      0.0  \n",
            "98                     -1.0  \n",
            "99                      0.0  \n",
            "100                    39.0  \n",
            "101                     0.0  \n"
          ]
        }
      ],
      "source": [
        "###if 7000<codekata score<10000 (Needs_Improvement.csv)###\n",
        "Needs_Improvement=df[(df['CodeKata Score']>7000)&(df['CodeKata Score']<10000)]\n",
        "print(Needs_Improvement)"
      ]
    },
    {
      "cell_type": "code",
      "execution_count": null,
      "metadata": {
        "colab": {
          "base_uri": "https://localhost:8080/"
        },
        "id": "Veu_vzUe7VcU",
        "outputId": "c1cdab5c-2cea-405e-975b-728ff76cf5ae"
      },
      "outputs": [
        {
          "name": "stdout",
          "output_type": "stream",
          "text": [
            "                Name  python  mysql  Previous Geekions  CodeKata Score  \\\n",
            "8         J.SUGANTHI    27.0  50.00               5860            5860   \n",
            "9       thamizhpaana    29.0   0.00               5500            5500   \n",
            "10   Iyappan Samiraj    50.0  24.00               5400            5400   \n",
            "11      Ponniyamma.R   100.0  11.25               5380            5380   \n",
            "12         SABAPATHI   100.0   0.00               5280            5280   \n",
            "..               ...     ...    ...                ...             ...   \n",
            "114    praveen raj j    24.0   0.00               2380            2380   \n",
            "115       AMARNATH D    -1.0  12.00               1890            1890   \n",
            "116             bala    32.0   0.00               1720            1720   \n",
            "117             XY Z    -1.0  -1.00                  0               0   \n",
            "118        Hariharan    -1.0  -1.00                  0               0   \n",
            "\n",
            "                                    Department  Rising  python_en  \\\n",
            "8    Electronics and Communication Engineering       0        NaN   \n",
            "9             Computer Science and Engineering       0        NaN   \n",
            "10   Electronics and Communication Engineering       0        NaN   \n",
            "11            Computer Science and Engineering       0        NaN   \n",
            "12            Computer Science and Engineering       0        NaN   \n",
            "..                                         ...     ...        ...   \n",
            "114           Computer Science and Engineering       0       -1.0   \n",
            "115  Electronics and Communication Engineering       0       52.0   \n",
            "116  Electronics and Communication Engineering       0       49.0   \n",
            "117           Computer Science and Engineering       0       20.0   \n",
            "118           Computer Science and Engineering       0       -1.0   \n",
            "\n",
            "     computational_thinking  \n",
            "8                       NaN  \n",
            "9                       NaN  \n",
            "10                      NaN  \n",
            "11                      NaN  \n",
            "12                      NaN  \n",
            "..                      ...  \n",
            "114                     0.0  \n",
            "115                    -1.0  \n",
            "116                    -1.0  \n",
            "117                    -1.0  \n",
            "118                     0.0  \n",
            "\n",
            "[93 rows x 9 columns]\n"
          ]
        }
      ],
      "source": [
        "###if codekate score < 7000 (Unsatisfactory.csv)###\n",
        "Unsatisfactory=df[(df['CodeKata Score']<7000)]\n",
        "print(Unsatisfactory)"
      ]
    },
    {
      "cell_type": "code",
      "execution_count": null,
      "metadata": {
        "colab": {
          "base_uri": "https://localhost:8080/"
        },
        "id": "FNd-2eU97wKV",
        "outputId": "83988553-ba6e-4980-840d-b402d0656ebf"
      },
      "outputs": [
        {
          "name": "stdout",
          "output_type": "stream",
          "text": [
            "3842.3529411764707 4051.764705882353\n"
          ]
        }
      ],
      "source": [
        "###Average of previous week geekions vs this week geekions (i.e Previous Geekions vs CodeKata Score)###\n",
        "df1=df['Previous Geekions'].mean()\n",
        "df2=df['CodeKata Score'].mean()\n",
        "print(df1,df2)"
      ]
    },
    {
      "cell_type": "code",
      "execution_count": null,
      "metadata": {
        "colab": {
          "base_uri": "https://localhost:8080/"
        },
        "id": "lrPQqvFCrS5V",
        "outputId": "b3427f1d-c171-4421-e8a7-00561cd0e4ae"
      },
      "outputs": [
        {
          "name": "stdout",
          "output_type": "stream",
          "text": [
            "119\n"
          ]
        }
      ],
      "source": [
        "###No of students participated###\n",
        "df=df['Name'].count()\n",
        "print(df)"
      ]
    },
    {
      "cell_type": "code",
      "execution_count": null,
      "metadata": {
        "colab": {
          "base_uri": "https://localhost:8080/"
        },
        "id": "dG6TmtwftRyg",
        "outputId": "f89ebf08-2092-4102-c2c1-bcb185d46e0c"
      },
      "outputs": [
        {
          "name": "stdout",
          "output_type": "stream",
          "text": [
            "0       51.00\n",
            "1       51.00\n",
            "2      100.00\n",
            "3       73.50\n",
            "4       54.00\n",
            "        ...  \n",
            "114      5.75\n",
            "115     15.50\n",
            "116     20.00\n",
            "117      4.25\n",
            "118     -0.75\n",
            "Length: 119, dtype: float64\n"
          ]
        }
      ],
      "source": [
        "###Average completion of python course or my_sql or python english or computational thinking###\n",
        "df3=df[['python','mysql','python_en','computational_thinking']].mean(axis=1)\n",
        "print(df3)"
      ]
    },
    {
      "cell_type": "code",
      "execution_count": null,
      "metadata": {
        "colab": {
          "base_uri": "https://localhost:8080/"
        },
        "id": "WF6WYeajxK9I",
        "outputId": "1733eeda-9b71-4390-f57b-9289bc52f05f"
      },
      "outputs": [
        {
          "name": "stdout",
          "output_type": "stream",
          "text": [
            "                  Name  python  mysql  Previous Geekions  CodeKata Score  \\\n",
            "92            shifak N    58.0    0.0               5180            8320   \n",
            "86   Ganesh Ramkumar R    -1.0   24.0               8790           10790   \n",
            "102     Narasimhan Y L    -1.0    0.0               4800            6800   \n",
            "\n",
            "                                 Department  Rising  python_en  \\\n",
            "92   Electronics and Electrical Engineering    3140        0.0   \n",
            "86         Computer Science and Engineering    2000       55.0   \n",
            "102        Computer Science and Engineering    2000       -1.0   \n",
            "\n",
            "     computational_thinking  \n",
            "92                      0.0  \n",
            "86                      6.0  \n",
            "102                     0.0  \n"
          ]
        }
      ],
      "source": [
        "###rising star of the week (top 3 candidate who performed well in that particular week)###\n",
        "df=df.nlargest(3,['Rising'])\n",
        "print(df)"
      ]
    },
    {
      "cell_type": "code",
      "execution_count": null,
      "metadata": {
        "colab": {
          "base_uri": "https://localhost:8080/"
        },
        "id": "-E39kDTOySDp",
        "outputId": "f5a494e5-f795-4ec0-a77e-85828973071b"
      },
      "outputs": [
        {
          "name": "stdout",
          "output_type": "stream",
          "text": [
            "                  Name  python  mysql  Previous Geekions  CodeKata Score  \\\n",
            "86   Ganesh Ramkumar R    -1.0   24.0               8790           10790   \n",
            "92            shifak N    58.0    0.0               5180            8320   \n",
            "102     Narasimhan Y L    -1.0    0.0               4800            6800   \n",
            "\n",
            "                                 Department  Rising  python_en  \\\n",
            "86         Computer Science and Engineering    2000       55.0   \n",
            "92   Electronics and Electrical Engineering    3140        0.0   \n",
            "102        Computer Science and Engineering    2000       -1.0   \n",
            "\n",
            "     computational_thinking  \n",
            "86                      6.0  \n",
            "92                      0.0  \n",
            "102                     0.0  \n"
          ]
        }
      ],
      "source": [
        "###Shining stars of the week (top 3 candidates who has highest geekions)###\n",
        "df=df.nlargest(3,['Previous Geekions'])\n",
        "print(df)"
      ]
    },
    {
      "cell_type": "code",
      "execution_count": 38,
      "metadata": {
        "colab": {
          "base_uri": "https://localhost:8080/",
          "height": 248
        },
        "id": "yBveOunoymIN",
        "outputId": "f309c51a-e590-4e32-ae04-a7373abbf9ed"
      },
      "outputs": [
        {
          "output_type": "display_data",
          "data": {
            "text/plain": [
              "<Figure size 432x288 with 1 Axes>"
            ],
            "image/png": "[encoded data removed]"
          },
          "metadata": {}
        }
      ],
      "source": [
        "###Department wise codekata performence (pie chart)###\n",
        "sums = df.groupby(df[\"Department\"])[\"CodeKata Score\"].sum()\n",
        "colors=[\"Blue\",\"Black\",\"Red\"]\n",
        "plt.pie(sums, labels=sums, colors=colors)\n",
        "plt.show()"
      ]
    },
    {
      "cell_type": "code",
      "source": [
        "###Department wise toppers (horizantal bar graph or any visual representations of your choice)###\n",
        "df=df[\"Department\"].unique()\n",
        "print(df)\n"
      ],
      "metadata": {
        "colab": {
          "base_uri": "https://localhost:8080/"
        },
        "id": "iwKeO63Sd5_9",
        "outputId": "274ed67b-0313-4388-f84a-82ffae01deb7"
      },
      "execution_count": 44,
      "outputs": [
        {
          "output_type": "stream",
          "name": "stdout",
          "text": [
            "['Computer Science and Engineering'\n",
            " 'Electronics and Communication Engineering'\n",
            " 'Electronics and Electrical Engineering']\n"
          ]
        }
      ]
    },
    {
      "cell_type": "code",
      "source": [
        "df['Max'] = df[['Computer Science and Engineering']].idxmax(axis=1)\n",
        "print(df['Max'])"
      ],
      "metadata": {
        "colab": {
          "base_uri": "https://localhost:8080/",
          "height": 328
        },
        "id": "qrJ24xYEi1xH",
        "outputId": "798f9cb0-50a0-4623-c418-934f97b66820"
      },
      "execution_count": 67,
      "outputs": [
        {
          "output_type": "error",
          "ename": "KeyError",
          "evalue": "ignored",
          "traceback": [
            "\u001b[0;31m---------------------------------------------------------------------------\u001b[0m",
            "\u001b[0;31mKeyError\u001b[0m                                  Traceback (most recent call last)",
            "\u001b[0;32m<ipython-input-67-3485708af3a1>\u001b[0m in \u001b[0;36m<module>\u001b[0;34m\u001b[0m\n\u001b[0;32m----> 1\u001b[0;31m \u001b[0mdf\u001b[0m\u001b[0;34m[\u001b[0m\u001b[0;34m'Max'\u001b[0m\u001b[0;34m]\u001b[0m \u001b[0;34m=\u001b[0m \u001b[0mdf\u001b[0m\u001b[0;34m[\u001b[0m\u001b[0;34m[\u001b[0m\u001b[0;34m'Computer Science and Engineering'\u001b[0m\u001b[0;34m]\u001b[0m\u001b[0;34m]\u001b[0m\u001b[0;34m.\u001b[0m\u001b[0midxmax\u001b[0m\u001b[0;34m(\u001b[0m\u001b[0maxis\u001b[0m\u001b[0;34m=\u001b[0m\u001b[0;36m1\u001b[0m\u001b[0;34m)\u001b[0m\u001b[0;34m\u001b[0m\u001b[0;34m\u001b[0m\u001b[0m\n\u001b[0m\u001b[1;32m      2\u001b[0m \u001b[0mprint\u001b[0m\u001b[0;34m(\u001b[0m\u001b[0mdf\u001b[0m\u001b[0;34m[\u001b[0m\u001b[0;34m'Max'\u001b[0m\u001b[0;34m]\u001b[0m\u001b[0;34m)\u001b[0m\u001b[0;34m\u001b[0m\u001b[0;34m\u001b[0m\u001b[0m\n",
            "\u001b[0;32m/usr/local/lib/python3.8/dist-packages/pandas/core/frame.py\u001b[0m in \u001b[0;36m__getitem__\u001b[0;34m(self, key)\u001b[0m\n\u001b[1;32m   3462\u001b[0m             \u001b[0;32mif\u001b[0m \u001b[0mis_iterator\u001b[0m\u001b[0;34m(\u001b[0m\u001b[0mkey\u001b[0m\u001b[0;34m)\u001b[0m\u001b[0;34m:\u001b[0m\u001b[0;34m\u001b[0m\u001b[0;34m\u001b[0m\u001b[0m\n\u001b[1;32m   3463\u001b[0m                 \u001b[0mkey\u001b[0m \u001b[0;34m=\u001b[0m \u001b[0mlist\u001b[0m\u001b[0;34m(\u001b[0m\u001b[0mkey\u001b[0m\u001b[0;34m)\u001b[0m\u001b[0;34m\u001b[0m\u001b[0;34m\u001b[0m\u001b[0m\n\u001b[0;32m-> 3464\u001b[0;31m             \u001b[0mindexer\u001b[0m \u001b[0;34m=\u001b[0m \u001b[0mself\u001b[0m\u001b[0;34m.\u001b[0m\u001b[0mloc\u001b[0m\u001b[0;34m.\u001b[0m\u001b[0m_get_listlike_indexer\u001b[0m\u001b[0;34m(\u001b[0m\u001b[0mkey\u001b[0m\u001b[0;34m,\u001b[0m \u001b[0maxis\u001b[0m\u001b[0;34m=\u001b[0m\u001b[0;36m1\u001b[0m\u001b[0;34m)\u001b[0m\u001b[0;34m[\u001b[0m\u001b[0;36m1\u001b[0m\u001b[0;34m]\u001b[0m\u001b[0;34m\u001b[0m\u001b[0;34m\u001b[0m\u001b[0m\n\u001b[0m\u001b[1;32m   3465\u001b[0m \u001b[0;34m\u001b[0m\u001b[0m\n\u001b[1;32m   3466\u001b[0m         \u001b[0;31m# take() does not accept boolean indexers\u001b[0m\u001b[0;34m\u001b[0m\u001b[0;34m\u001b[0m\u001b[0;34m\u001b[0m\u001b[0m\n",
            "\u001b[0;32m/usr/local/lib/python3.8/dist-packages/pandas/core/indexing.py\u001b[0m in \u001b[0;36m_get_listlike_indexer\u001b[0;34m(self, key, axis)\u001b[0m\n\u001b[1;32m   1312\u001b[0m             \u001b[0mkeyarr\u001b[0m\u001b[0;34m,\u001b[0m \u001b[0mindexer\u001b[0m\u001b[0;34m,\u001b[0m \u001b[0mnew_indexer\u001b[0m \u001b[0;34m=\u001b[0m \u001b[0max\u001b[0m\u001b[0;34m.\u001b[0m\u001b[0m_reindex_non_unique\u001b[0m\u001b[0;34m(\u001b[0m\u001b[0mkeyarr\u001b[0m\u001b[0;34m)\u001b[0m\u001b[0;34m\u001b[0m\u001b[0;34m\u001b[0m\u001b[0m\n\u001b[1;32m   1313\u001b[0m \u001b[0;34m\u001b[0m\u001b[0m\n\u001b[0;32m-> 1314\u001b[0;31m         \u001b[0mself\u001b[0m\u001b[0;34m.\u001b[0m\u001b[0m_validate_read_indexer\u001b[0m\u001b[0;34m(\u001b[0m\u001b[0mkeyarr\u001b[0m\u001b[0;34m,\u001b[0m \u001b[0mindexer\u001b[0m\u001b[0;34m,\u001b[0m \u001b[0maxis\u001b[0m\u001b[0;34m)\u001b[0m\u001b[0;34m\u001b[0m\u001b[0;34m\u001b[0m\u001b[0m\n\u001b[0m\u001b[1;32m   1315\u001b[0m \u001b[0;34m\u001b[0m\u001b[0m\n\u001b[1;32m   1316\u001b[0m         if needs_i8_conversion(ax.dtype) or isinstance(\n",
            "\u001b[0;32m/usr/local/lib/python3.8/dist-packages/pandas/core/indexing.py\u001b[0m in \u001b[0;36m_validate_read_indexer\u001b[0;34m(self, key, indexer, axis)\u001b[0m\n\u001b[1;32m   1372\u001b[0m                 \u001b[0;32mif\u001b[0m \u001b[0muse_interval_msg\u001b[0m\u001b[0;34m:\u001b[0m\u001b[0;34m\u001b[0m\u001b[0;34m\u001b[0m\u001b[0m\n\u001b[1;32m   1373\u001b[0m                     \u001b[0mkey\u001b[0m \u001b[0;34m=\u001b[0m \u001b[0mlist\u001b[0m\u001b[0;34m(\u001b[0m\u001b[0mkey\u001b[0m\u001b[0;34m)\u001b[0m\u001b[0;34m\u001b[0m\u001b[0;34m\u001b[0m\u001b[0m\n\u001b[0;32m-> 1374\u001b[0;31m                 \u001b[0;32mraise\u001b[0m \u001b[0mKeyError\u001b[0m\u001b[0;34m(\u001b[0m\u001b[0;34mf\"None of [{key}] are in the [{axis_name}]\"\u001b[0m\u001b[0;34m)\u001b[0m\u001b[0;34m\u001b[0m\u001b[0;34m\u001b[0m\u001b[0m\n\u001b[0m\u001b[1;32m   1375\u001b[0m \u001b[0;34m\u001b[0m\u001b[0m\n\u001b[1;32m   1376\u001b[0m             \u001b[0mnot_found\u001b[0m \u001b[0;34m=\u001b[0m \u001b[0mlist\u001b[0m\u001b[0;34m(\u001b[0m\u001b[0mensure_index\u001b[0m\u001b[0;34m(\u001b[0m\u001b[0mkey\u001b[0m\u001b[0;34m)\u001b[0m\u001b[0;34m[\u001b[0m\u001b[0mmissing_mask\u001b[0m\u001b[0;34m.\u001b[0m\u001b[0mnonzero\u001b[0m\u001b[0;34m(\u001b[0m\u001b[0;34m)\u001b[0m\u001b[0;34m[\u001b[0m\u001b[0;36m0\u001b[0m\u001b[0;34m]\u001b[0m\u001b[0;34m]\u001b[0m\u001b[0;34m.\u001b[0m\u001b[0munique\u001b[0m\u001b[0;34m(\u001b[0m\u001b[0;34m)\u001b[0m\u001b[0;34m)\u001b[0m\u001b[0;34m\u001b[0m\u001b[0;34m\u001b[0m\u001b[0m\n",
            "\u001b[0;31mKeyError\u001b[0m: \"None of [Index(['Computer Science and Engineering'], dtype='object')] are in the [columns]\""
          ]
        }
      ]
    }
  ],
  "metadata": {
    "colab": {
      "provenance": [],
      "authorship_tag": "ABX9TyOGv4NQ1KM+5GwJkRdTHsUm",
      "include_colab_link": true
    },
    "kernelspec": {
      "display_name": "Python 3",
      "name": "python3"
    },
    "language_info": {
      "name": "python"
    }
  },
  "nbformat": 4,
  "nbformat_minor": 0
}